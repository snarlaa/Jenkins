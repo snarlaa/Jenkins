{
  "nbformat": 4,
  "nbformat_minor": 0,
  "metadata": {
    "colab": {
      "provenance": [],
      "authorship_tag": "ABX9TyPMcXXYxS/5lrOcrhc8TIxR",
      "include_colab_link": true
    },
    "kernelspec": {
      "name": "python3",
      "display_name": "Python 3"
    },
    "language_info": {
      "name": "python"
    }
  },
  "cells": [
    {
      "cell_type": "markdown",
      "metadata": {
        "id": "view-in-github",
        "colab_type": "text"
      },
      "source": [
        "<a href=\"https://colab.research.google.com/github/snarlaa/Jenkinsfile/blob/master/Operators.ipynb\" target=\"_parent\"><img src=\"https://colab.research.google.com/assets/colab-badge.svg\" alt=\"Open In Colab\"/></a>"
      ]
    },
    {
      "cell_type": "markdown",
      "source": [],
      "metadata": {
        "id": "pmy832tGqQnJ"
      }
    },
    {
      "cell_type": "markdown",
      "source": [
        "## Operators ( Symbol used for operations)\n",
        " -- Arithematic operators\n",
        " -- precedence of operators\n",
        " -- Boolean operators\n",
        " -- Comparison operators\n",
        " -- Assignment operators"
      ],
      "metadata": {
        "id": "F65DDU3LqSWb"
      }
    },
    {
      "cell_type": "markdown",
      "source": [],
      "metadata": {
        "id": "HXXk8VYCqPuz"
      }
    }
  ]
}